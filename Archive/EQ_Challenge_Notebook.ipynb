{
 "cells": [
  {
   "cell_type": "markdown",
   "metadata": {},
   "source": [
    "# EQ Challenge Notebook"
   ]
  },
  {
   "cell_type": "markdown",
   "metadata": {},
   "source": [
    "## Content\n",
    "0. Data Collection\n",
    "1. Clean-Up\n",
    "2. Label\n",
    "3. Analysis\n",
    "4. Data Science/Engineering Tracks\n",
    "    a. Model\n",
    "        1- Visualize\n",
    "        2- Bonus\n",
    "    b. Pipeline Dependency\n",
    "  "
   ]
  },
  {
   "cell_type": "code",
   "execution_count": null,
   "metadata": {},
   "outputs": [],
   "source": [
    "#https://gist.github.com/woozyking/f1d50e1fe1b3bf52e3748bc280cf941f"
   ]
  },
  {
   "cell_type": "markdown",
   "metadata": {},
   "source": [
    "## 0. Data Collection "
   ]
  },
  {
   "cell_type": "code",
   "execution_count": 1,
   "metadata": {},
   "outputs": [],
   "source": [
    "#!pip install haversine"
   ]
  },
  {
   "cell_type": "code",
   "execution_count": 2,
   "metadata": {},
   "outputs": [],
   "source": [
    "#!pip install folium"
   ]
  },
  {
   "cell_type": "code",
   "execution_count": 3,
   "metadata": {},
   "outputs": [],
   "source": [
    "import os\n",
    "from pyspark.sql import SparkSession\n",
    "from pyspark.sql.functions import *\n",
    "from pyspark.sql.types import *\n",
    "from pyspark.sql import SQLContext\n",
    "import numpy as np\n",
    "import haversine as hs\n",
    "import folium\n",
    "from itertools import chain\n",
    "import math"
   ]
  },
  {
   "cell_type": "code",
   "execution_count": 4,
   "metadata": {},
   "outputs": [
    {
     "data": {
      "text/plain": [
       "[('spark.master', 'local'),\n",
       " ('spark.executor.memory', '3g'),\n",
       " ('spark.sql.broadcastTimeout', '36000'),\n",
       " ('spark.executor.id', 'driver'),\n",
       " ('spark.driver.port', '7830'),\n",
       " ('spark.cores.max', '4'),\n",
       " ('spark.driver.host', '192.168.0.17'),\n",
       " ('spark.driver.memory', '3g'),\n",
       " ('spark.app.id', 'local-1621444225324'),\n",
       " ('spark.rdd.compress', 'True'),\n",
       " ('spark.serializer.objectStreamReset', '100'),\n",
       " ('spark.submit.deployMode', 'client'),\n",
       " ('spark.app.name', 'EQ Challenge'),\n",
       " ('spark.ui.showConsoleProgress', 'true')]"
      ]
     },
     "execution_count": 4,
     "metadata": {},
     "output_type": "execute_result"
    }
   ],
   "source": [
    "# Starting Spark Session\n",
    "spark = SparkSession.builder \\\n",
    "       .master(\"local\") \\\n",
    "       .appName(\"EQ Challenge\") \\\n",
    "       .config(\"spark.executor.memory\", \"3g\")\\\n",
    "       .config(\"spark.driver.memory\", \"3g\")\\\n",
    "       .config(\"spark.sql.broadcastTimeout\", \"36000\")\\\n",
    "       .config(\"spark.cores.max\", \"4\")\\\n",
    "       .getOrCreate()\n",
    "               \n",
    "sc = spark.sparkContext\n",
    "sqlContext = SQLContext(sc)\n",
    "spark.sparkContext._conf.getAll()  # check the config"
   ]
  },
  {
   "cell_type": "code",
   "execution_count": 5,
   "metadata": {},
   "outputs": [],
   "source": [
    "# Importing Data\n",
    "\n",
    "inputPath=os.getcwd()+ '\\\\data\\\\'\n",
    "df = spark.read.options(\n",
    "    header='True',\n",
    "    inferSchema='True',\n",
    "    delimiter=',',\n",
    ").csv(os.path.join(inputPath+'DataSample.csv'))\n",
    "\n",
    "poi = spark.read.options(header='True', inferSchema='True', delimiter=',').csv(os.path.join(inputPath,'POIList.csv'))"
   ]
  },
  {
   "cell_type": "code",
   "execution_count": 6,
   "metadata": {},
   "outputs": [
    {
     "name": "stdout",
     "output_type": "stream",
     "text": [
      "root\n",
      " |-- _ID: integer (nullable = true)\n",
      " |--  TimeSt: timestamp (nullable = true)\n",
      " |-- Country: string (nullable = true)\n",
      " |-- Province: string (nullable = true)\n",
      " |-- City: string (nullable = true)\n",
      " |-- Latitude: double (nullable = true)\n",
      " |-- Longitude: double (nullable = true)\n",
      "\n",
      "root\n",
      " |-- POIID: string (nullable = true)\n",
      " |--  Latitude: double (nullable = true)\n",
      " |-- Longitude: double (nullable = true)\n",
      "\n"
     ]
    }
   ],
   "source": [
    "# Take a look on the Schema\n",
    "df.printSchema()\n",
    "poi.printSchema()"
   ]
  },
  {
   "cell_type": "code",
   "execution_count": 7,
   "metadata": {},
   "outputs": [],
   "source": [
    "# Strip Column names\n",
    "df = df.select([col(cl).alias(cl.replace(' ', '')) for cl in df.columns])\n",
    "df = df.select([col(cl).alias(cl.replace('_', '')) for cl in df.columns])\n",
    "poi = poi.select([col(cl).alias(cl.replace(' ', '')) for cl in poi.columns])"
   ]
  },
  {
   "cell_type": "code",
   "execution_count": 8,
   "metadata": {},
   "outputs": [
    {
     "name": "stdout",
     "output_type": "stream",
     "text": [
      "+-------+--------------------+-------+--------+---------+--------+---------+\n",
      "|     ID|              TimeSt|Country|Province|     City|Latitude|Longitude|\n",
      "+-------+--------------------+-------+--------+---------+--------+---------+\n",
      "|4516516|2017-06-21 00:00:...|     CA|      ON| Waterloo|43.49347|-80.49123|\n",
      "|4516547|2017-06-21 18:00:...|     CA|      ON|   London| 42.9399| -81.2709|\n",
      "|4516550|2017-06-21 15:00:...|     CA|      ON|   Guelph| 43.5776| -80.2201|\n",
      "|4516600|2017-06-21 15:00:...|     CA|      ON|Stratford| 43.3716| -80.9773|\n",
      "|4516613|2017-06-21 15:00:...|     CA|      ON|Stratford| 43.3716| -80.9773|\n",
      "+-------+--------------------+-------+--------+---------+--------+---------+\n",
      "only showing top 5 rows\n",
      "\n",
      "Number of Records: 22025\n"
     ]
    }
   ],
   "source": [
    "# look at some data\n",
    "df.show(n=5)\n",
    "original_df_count=df.count()\n",
    "print('Number of Records:',original_df_count)"
   ]
  },
  {
   "cell_type": "code",
   "execution_count": 9,
   "metadata": {},
   "outputs": [
    {
     "name": "stdout",
     "output_type": "stream",
     "text": [
      "+-----+---------+-----------+\n",
      "|POIID| Latitude|  Longitude|\n",
      "+-----+---------+-----------+\n",
      "| POI1|53.546167|-113.485734|\n",
      "| POI2|53.546167|-113.485734|\n",
      "| POI3|45.521629| -73.566024|\n",
      "| POI4| 45.22483| -63.232729|\n",
      "+-----+---------+-----------+\n",
      "\n",
      "Number of POI's: 4\n"
     ]
    }
   ],
   "source": [
    "poi.show()\n",
    "original_poi_count=poi.count()\n",
    "print('Number of POI\\'s:',original_poi_count)"
   ]
  },
  {
   "cell_type": "markdown",
   "metadata": {},
   "source": [
    "## 1. Clean-up Data"
   ]
  },
  {
   "cell_type": "markdown",
   "metadata": {},
   "source": [
    "Records that have identical geoinfo and timest as are considered suspicious and should be removed"
   ]
  },
  {
   "cell_type": "code",
   "execution_count": 10,
   "metadata": {},
   "outputs": [
    {
     "name": "stdout",
     "output_type": "stream",
     "text": [
      "Removed 2026 suspecious records\n"
     ]
    }
   ],
   "source": [
    "df = df.dropDuplicates(['TimeSt','Latitude','Longitude'])\n",
    "print('Removed',original_df_count-df.count(),'suspecious records')"
   ]
  },
  {
   "cell_type": "markdown",
   "metadata": {},
   "source": [
    "Remove Duplicate POI with the same location"
   ]
  },
  {
   "cell_type": "code",
   "execution_count": 11,
   "metadata": {},
   "outputs": [
    {
     "name": "stdout",
     "output_type": "stream",
     "text": [
      "Removed 1 redundent POI\n"
     ]
    }
   ],
   "source": [
    "poi = poi.dropDuplicates(poi.drop('POIID').columns)\n",
    "print('Removed',original_poi_count-poi.count(),'redundent POI')"
   ]
  },
  {
   "cell_type": "markdown",
   "metadata": {},
   "source": [
    "## 2. Label"
   ]
  },
  {
   "cell_type": "markdown",
   "metadata": {},
   "source": [
    "Assign each request to the closest  POI"
   ]
  },
  {
   "cell_type": "code",
   "execution_count": 12,
   "metadata": {},
   "outputs": [],
   "source": [
    "# first create a map type column called 'map'\n",
    "#make_map = udf(lambda x, y: dict(zip(x, y)), MapType(DoubleType(), DoubleType()))\n",
    "#df_coor=df.select('ID',make_map(col('Latitude'), col('Longitude')).alias('coor'))\n"
   ]
  },
  {
   "cell_type": "code",
   "execution_count": 13,
   "metadata": {},
   "outputs": [],
   "source": [
    "def distance_from(lat1, long1, lat2, long2): \n",
    "    \"\"\" defining a  function to calculate distance between two locations\n",
    "        loc1= location of an existing POI\n",
    "        loc2= location of customer\"\"\"\n",
    "    # convert decimal degrees to radians \n",
    "    lat1, long1, lat2, long2 = map(toRadians, [lat1, long1, lat2, long2])\n",
    "    # Haversine formula https://www.movable-type.co.uk/scripts/latlong.html\n",
    "    distlon = long2 - long1 \n",
    "    distlat = lat2 - lat1 \n",
    "    a = sin(distlat/2)**2 + cos(lat1) * cos(lat2) * sin(distlon/2)**2\n",
    "    c=2 * asin(sqrt(a)) \n",
    "    # Radius of the earth in kilometers is 6371\n",
    "    distKm = 6371* c\n",
    "    return round(abs(distKm), 4)"
   ]
  },
  {
   "cell_type": "code",
   "execution_count": 14,
   "metadata": {},
   "outputs": [
    {
     "name": "stdout",
     "output_type": "stream",
     "text": [
      "+-------+--------------------+-------+--------+-------------+--------+---------+-----+--------+\n",
      "|     ID|              TimeSt|Country|Province|         City|Latitude|Longitude|POIID|Distance|\n",
      "+-------+--------------------+-------+--------+-------------+--------+---------+-----+--------+\n",
      "|4517905|2017-06-21 17:00:...|     CA|      ON|      Windsor| 42.2957| -82.9599| POI3|832.9559|\n",
      "|4526426|2017-06-21 17:00:...|     CA|      QC|Saint-Nicolas|46.72072|-71.30409| POI3|219.4615|\n",
      "|4535091|2017-06-21 11:00:...|     CA|      AB|      Calgary|  51.049|-113.9622| POI1|279.5545|\n",
      "|4545807|2017-06-21 04:01:...|     CA|      ON|      Markham|43.85883|-79.29809| POI3|489.2499|\n",
      "|4559622|2017-06-21 18:01:...|     CA|      ON|     Kingston| 44.2647| -76.5504| POI3|273.4697|\n",
      "+-------+--------------------+-------+--------+-------------+--------+---------+-----+--------+\n",
      "only showing top 5 rows\n",
      "\n"
     ]
    }
   ],
   "source": [
    "# Combine POI table with Requests Table by cross join\n",
    "comb_df = df.select(['ID', 'Latitude', 'Longitude']).crossJoin(\n",
    "            poi.withColumnRenamed('Latitude', 'POI_LAT')\n",
    "                .withColumnRenamed('Longitude', 'POI_LON')\n",
    "        )\n",
    "# Calculate the distance from request to each POI using Haversine formula\n",
    "comb_df = comb_df.withColumn(\n",
    "            'Distance', distance_from('Latitude','Longitude','POI_LAT','POI_LON'))\n",
    "# Group request location and calculate the minimum distance to POI\n",
    "group_data = comb_df.groupBy(['Latitude', 'Longitude']).agg(\n",
    "            min('Distance')).withColumnRenamed('min(Distance)', 'Distance')\n",
    "# Left join the minimum distances grouped table to the combined table \n",
    "comb_df = comb_df.join(group_data,\n",
    "                                 on=['Latitude', 'Longitude', 'Distance'],\n",
    "                                 how='left_semi')\n",
    "# left join the latest combined table to the initial request table on ID \n",
    "comb_df = df.join(\n",
    "            comb_df.select(['ID', 'POIID', 'Distance']), on=['ID'],\n",
    "            how='left'\n",
    "        )\n",
    "# Show final table sample\n",
    "comb_df.show(n=5)"
   ]
  },
  {
   "cell_type": "markdown",
   "metadata": {},
   "source": [
    "## 3. Analysis"
   ]
  },
  {
   "cell_type": "code",
   "execution_count": 25,
   "metadata": {},
   "outputs": [
    {
     "name": "stdout",
     "output_type": "stream",
     "text": [
      "+-----+------------------+------------------+----------+--------------------+\n",
      "|POIID|  Average Distance|       SD Distance|    Radius|             Density|\n",
      "+-----+------------------+------------------+----------+--------------------+\n",
      "| POI4|497.27872746331195|1472.9378033111789| 9349.5728|1.736940618101474...|\n",
      "| POI1| 301.9068558856792|   412.43003446935|11531.8208|2.328269629635223...|\n",
      "| POI3| 451.5275540786115|223.35055601525525|  1474.581|0.001433894834424...|\n",
      "+-----+------------------+------------------+----------+--------------------+\n",
      "\n"
     ]
    }
   ],
   "source": [
    "group_df = comb_df.groupBy(['POIID'])\n",
    "\n",
    "analys_poi = group_df.agg(\n",
    "             mean('Distance'), stddev('Distance'),max('Distance'),count('POIID') ) \\\n",
    "            .withColumnRenamed('avg(Distance)', 'Average Distance') \\\n",
    "            .withColumnRenamed('stddev(Distance)', 'SD Distance') \\\n",
    "            .withColumnRenamed('max(Distance)', 'Radius') \\\n",
    "            #.withColumnRenamed('count(POIID)', 'Density')\n",
    "\n",
    "analys_poi = analys_poi.withColumn('Density', col('count') / (math.pi * col('Radius')**2))\n",
    "analys_poi.show()"
   ]
  },
  {
   "cell_type": "markdown",
   "metadata": {},
   "source": [
    "## 4. Data Science/Engineering Tracks"
   ]
  },
  {
   "cell_type": "markdown",
   "metadata": {},
   "source": [
    "### 4a. Model"
   ]
  },
  {
   "cell_type": "markdown",
   "metadata": {},
   "source": [
    "First, remove the outlier requests (away from Inter Quartile Range IQR) which are too far away from the POI. \n",
    "IQR is a measure of statistical dispersion, which is equal to the difference between the 75th percentile and the 25th percentile.\n",
    "IQR Can  be used to detect request outliers in a few easy and straightforward steps:\n",
    "1.\tCalculate the 1st quartile Q1.\n",
    "2.\tCalculate the 3rd quartile Q3.\n",
    "3.\tCalculate IQR=Q3−Q1.\n",
    "4.\tCalculate the Requests Range:\n",
    "    - Lower bound: Q1−1.5∗IQR\n",
    "    - Upper bound: Q3+1.5∗IQR\n",
    "5.\tRemove any points outside the Requests Range as suspected outliers.\n",
    "\n"
   ]
  },
  {
   "cell_type": "code",
   "execution_count": 16,
   "metadata": {},
   "outputs": [],
   "source": [
    "\n",
    "def calculate_ReqRang(df):\n",
    "    # 1. Calculate the 1st quartile Q1.\n",
    "    # 2. Calculate the 3rd quartile Q3.\n",
    "    requests = {\n",
    "    c: dict(\n",
    "            zip([\"q1\", \"q3\"], df.approxQuantile(c, [0.25, 0.75], 0))\n",
    "        ) for c,d in zip(df.columns, df.dtypes) if d[1] == \"double\" # Distance should be of type double\n",
    "    }\n",
    "\n",
    "    for c in requests:\n",
    "    # 3. Calculate IQR=Q3−Q1\n",
    "        iqr = requests[c]['q3'] - requests[c]['q1']\n",
    "    # 4. Calculate the Requests Range:\n",
    "        requests[c]['min'] = requests[c]['q1'] - (iqr * 1.5)\n",
    "        requests[c]['max'] = requests[c]['q3'] + (iqr * 1.5)\n",
    "\n",
    "    return requests"
   ]
  },
  {
   "cell_type": "code",
   "execution_count": 17,
   "metadata": {},
   "outputs": [],
   "source": [
    "IQR=calculate_ReqRang(comb_df.select(['Distance']))\n",
    "IQR"
   ]
  },
  {
   "cell_type": "code",
   "execution_count": 19,
   "metadata": {},
   "outputs": [
    {
     "data": {
      "text/plain": [
       "19486"
      ]
     },
     "execution_count": 19,
     "metadata": {},
     "output_type": "execute_result"
    }
   ],
   "source": [
    "# 5 Remove any points outside the Requests Range considered as suspected outliers.\n",
    "bounded_df=comb_df.filter(col(\"Distance\").between(IQR['Distance']['min'],IQR['Distance']['max']))\n",
    "print('Number of removed outlaiers requests:',comb_df.count()-bounded_df.count())"
   ]
  },
  {
   "cell_type": "markdown",
   "metadata": {},
   "source": [
    "# Mapping Rang inot another"
   ]
  },
  {
   "cell_type": "code",
   "execution_count": null,
   "metadata": {},
   "outputs": [],
   "source": [
    "# Mapping Rang inot another\n",
    "#https://stackoverflow.com/questions/5731863/mapping-a-numeric-range-onto-another\n",
    "#https://stackoverflow.com/questions/36358233/is-it-possible-to-scale-data-by-group-in-spark\n",
    "#https://codereview.stackexchange.com/questions/185785/scale-numpy-array-to-certain-range\n",
    "#https://rosettacode.org/wiki/Map_range#Python\n",
    "#https://github.com/ystcheng/ws-data-application/tree/master/data"
   ]
  },
  {
   "cell_type": "code",
   "execution_count": null,
   "metadata": {},
   "outputs": [],
   "source": [
    "# mapping \n",
    "#https://en.wikipedia.org/wiki/Multi-armed_bandit"
   ]
  },
  {
   "cell_type": "code",
   "execution_count": null,
   "metadata": {},
   "outputs": [],
   "source": [
    "# Hypthesis Testing\n",
    "#Hypothesis testing"
   ]
  },
  {
   "cell_type": "code",
   "execution_count": null,
   "metadata": {},
   "outputs": [],
   "source": [
    "def create_map(cust,pois,zoom=6):\n",
    "    m = folium.Map(location=[cust.Latitude.mean(), cust.Longitude.mean()], zoom_start=zoom, tiles='OpenStreetMap')\n",
    "    \n",
    "    for _, row in cust.iterrows():\n",
    "         \n",
    "        if row['Condition']=='Out':\n",
    "            cluster_colour='blue'\n",
    "        else:\n",
    "            cluster_colour = 'green'\n",
    "        \n",
    "        folium.CircleMarker(\n",
    "            location= [row['Latitude'],row['Longitude']],\n",
    "            radius=5,\n",
    "            popup= row[['Condition']],\n",
    "            color=cluster_colour,\n",
    "            fill=True,\n",
    "            opacity=0.1,\n",
    "            fill_opacity=1,\n",
    "            fill_color=cluster_colour\n",
    "            ).add_to(m)\n",
    "    \n",
    "    for _, row in pois.iterrows(): \n",
    "        folium.Marker(\n",
    "            location= [row['Latitude'],row['Longitude']],\n",
    "            radius=5,\n",
    "            popup= row['POIID'],\n",
    "            color='red',\n",
    "            fill=True,\n",
    "            opacity=0.1,\n",
    "            fill_opacity=1,\n",
    "            fill_color='red'\n",
    "             ).add_to(m)\n",
    "    for _, row in pois.iterrows(): \n",
    "        folium.Circle(\n",
    "            location= [row['Latitude'],row['Longitude']],\n",
    "            radius=500* 1000,\n",
    "            popup= row['POIID'],\n",
    "            color='black',\n",
    "            fill=False,\n",
    "        ).add_to(m)\n",
    "        \n",
    "    return m"
   ]
  },
  {
   "cell_type": "code",
   "execution_count": null,
   "metadata": {},
   "outputs": [],
   "source": [
    "cust_loc= comb_df.toPandas()\n",
    "poi_loc=poi.toPandas()\n",
    "\n"
   ]
  },
  {
   "cell_type": "code",
   "execution_count": null,
   "metadata": {},
   "outputs": [],
   "source": [
    "cust_loc.head()"
   ]
  },
  {
   "cell_type": "code",
   "execution_count": null,
   "metadata": {},
   "outputs": [],
   "source": [
    "\n",
    "#poi_list= [poi.select('POIID').collect()[i].POIID for i in range(poi.count())] \n",
    "cust_loc['Condition']='Out'\n",
    "\n",
    "#for i in poi_list:\n",
    "cust_loc['Condition'][cust_loc.Condition=='Out']=cust_loc[cust_loc.Condition=='Out']['Distance'].apply(lambda x: 'In' if x<500 else 'Out')\n",
    "cust_loc.sample(10)"
   ]
  },
  {
   "cell_type": "code",
   "execution_count": null,
   "metadata": {},
   "outputs": [],
   "source": [
    "\n",
    "m= create_map(cust_loc,poi_loc,zoom=3)\n",
    "m"
   ]
  },
  {
   "cell_type": "code",
   "execution_count": null,
   "metadata": {},
   "outputs": [],
   "source": [
    "spark.stop()"
   ]
  },
  {
   "cell_type": "code",
   "execution_count": null,
   "metadata": {},
   "outputs": [],
   "source": []
  }
 ],
 "metadata": {
  "kernelspec": {
   "display_name": "Python 3",
   "language": "python",
   "name": "python3"
  },
  "language_info": {
   "codemirror_mode": {
    "name": "ipython",
    "version": 3
   },
   "file_extension": ".py",
   "mimetype": "text/x-python",
   "name": "python",
   "nbconvert_exporter": "python",
   "pygments_lexer": "ipython3",
   "version": "3.7.7"
  }
 },
 "nbformat": 4,
 "nbformat_minor": 4
}
